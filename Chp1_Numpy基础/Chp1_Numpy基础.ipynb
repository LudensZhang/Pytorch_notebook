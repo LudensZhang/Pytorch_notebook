{
 "cells": [
  {
   "cell_type": "markdown",
   "id": "695dcaa2",
   "metadata": {},
   "source": [
    "# Numpy基础"
   ]
  },
  {
   "cell_type": "markdown",
   "id": "cf0783e7",
   "metadata": {},
   "source": [
    "## 生成Numpy数组\n",
    "导入Numpy"
   ]
  },
  {
   "cell_type": "code",
   "execution_count": 1,
   "id": "011c40b4",
   "metadata": {},
   "outputs": [],
   "source": [
    "import numpy as np"
   ]
  },
  {
   "cell_type": "markdown",
   "id": "b44e60c3",
   "metadata": {},
   "source": [
    "### 从已有数据创建数组\n",
    "将列表转换成ndarray"
   ]
  },
  {
   "cell_type": "code",
   "execution_count": 2,
   "id": "10e68f8c",
   "metadata": {},
   "outputs": [
    {
     "name": "stdout",
     "output_type": "stream",
     "text": [
      "[1 2 3 4 5]\n",
      "<class 'numpy.ndarray'>\n"
     ]
    }
   ],
   "source": [
    "lst1 = [1, 2, 3, 4, 5]\n",
    "nd1 = np.array(lst1)\n",
    "print(nd1)\n",
    "print(type(nd1))"
   ]
  },
  {
   "cell_type": "markdown",
   "id": "46434500",
   "metadata": {},
   "source": [
    "嵌套列表转换为多为ndarray"
   ]
  },
  {
   "cell_type": "code",
   "execution_count": 3,
   "id": "18b3876e",
   "metadata": {},
   "outputs": [
    {
     "name": "stdout",
     "output_type": "stream",
     "text": [
      "[[ 1  2  3  4  5]\n",
      " [ 6  7  8  9 10]]\n",
      "<class 'numpy.ndarray'>\n"
     ]
    }
   ],
   "source": [
    "lst2 = [[1, 2, 3, 4, 5], [6, 7, 8, 9, 10]]\n",
    "nd2 = np.array(lst2)\n",
    "print(nd2)\n",
    "print(type(nd2))"
   ]
  },
  {
   "cell_type": "markdown",
   "id": "cc6870ef",
   "metadata": {},
   "source": [
    "对元组同样适用"
   ]
  },
  {
   "cell_type": "markdown",
   "id": "be0bebe3",
   "metadata": {},
   "source": [
    "### 利用random模块生成数组\n",
    "|函数|描述|\n",
    "|---|---|\n",
    "|np.random.random|生成0到1之间的随机数|\n",
    "|np.random.uniform|生成均匀分布的随机数|\n",
    "|np.random.randn|生成标准正态的随机数|\n",
    "|np.random.randint|生成随机的整数|\n",
    "|np.random.normal|生成正态分布|\n",
    "|np.random.shuffle|随机打乱顺序|\n",
    "|np.random.seed|设置随机数种子|\n",
    "|random_sample|生成随机浮点数|"
   ]
  },
  {
   "cell_type": "code",
   "execution_count": 4,
   "id": "f3bbf7ee",
   "metadata": {},
   "outputs": [
    {
     "name": "stdout",
     "output_type": "stream",
     "text": [
      "[[0.76541512 0.52985463 0.15793374]\n",
      " [0.54427066 0.30891756 0.59450234]\n",
      " [0.54219062 0.32464816 0.52894328]]\n",
      "nd3的形状为(3, 3)\n"
     ]
    }
   ],
   "source": [
    "nd3 = np.random.random([3, 3])\n",
    "print(nd3)\n",
    "print(f'nd3的形状为{nd3.shape}')"
   ]
  },
  {
   "cell_type": "markdown",
   "id": "be45a41d",
   "metadata": {},
   "source": [
    "为了每次生成同一份数据，可以指定一个随机种子，使用shuffle函数打乱生成的随机数"
   ]
  },
  {
   "cell_type": "code",
   "execution_count": 5,
   "id": "a19a6cb3",
   "metadata": {},
   "outputs": [
    {
     "name": "stdout",
     "output_type": "stream",
     "text": [
      "[[-1.0856306   0.99734545  0.2829785 ]\n",
      " [-1.50629471 -0.57860025  1.65143654]]\n",
      "随机打乱后数据：\n",
      "[[-1.50629471 -0.57860025  1.65143654]\n",
      " [-1.0856306   0.99734545  0.2829785 ]]\n"
     ]
    }
   ],
   "source": [
    "np.random.seed(123)\n",
    "nd4 = np.random.randn(2, 3)\n",
    "print(nd4)\n",
    "np.random.shuffle(nd4)\n",
    "print(f'随机打乱后数据：')\n",
    "print(nd4)"
   ]
  },
  {
   "cell_type": "markdown",
   "id": "5622f686",
   "metadata": {},
   "source": [
    "### 创建特定形状的多维数组\n",
    "|函数|描述|\n",
    "|---|---|\n",
    "|np.zeros([3, 4])|3×4的全为0的数组|\n",
    "|np.ones([3, 4])|3×4的全为1的数组|\n",
    "|np.empty([2, 3])|2×3的全为空值的数组|\n",
    "|np.zeros_like(ndarr)|以ndarr的维度创建全为0的数组|\n",
    "|np.zones_like(ndarr)|以ndarr的维度创建全为1的数组|\n",
    "|np.empty_like(ndarr)|以ndarr的维度创建全为空值的数组|\n",
    "|np.eye(5)|5×5的单位矩阵|\n",
    "|np.full([3, 5], 666)|3×5的全为666的数组|\n",
    "|np.diag([1, 2, 3])|对角线为1，2，3的对角矩阵|"
   ]
  },
  {
   "cell_type": "code",
   "execution_count": 6,
   "id": "379725f4",
   "metadata": {},
   "outputs": [
    {
     "name": "stdout",
     "output_type": "stream",
     "text": [
      "[[0. 0. 0.]\n",
      " [0. 0. 0.]\n",
      " [0. 0. 0.]]\n"
     ]
    }
   ],
   "source": [
    "nd5 = np.zeros([3, 3])\n",
    "print(nd5)"
   ]
  },
  {
   "cell_type": "code",
   "execution_count": 7,
   "id": "b89e1cf8",
   "metadata": {},
   "outputs": [
    {
     "name": "stdout",
     "output_type": "stream",
     "text": [
      "[[1. 1. 1.]\n",
      " [1. 1. 1.]\n",
      " [1. 1. 1.]]\n"
     ]
    }
   ],
   "source": [
    "nd6 = np.ones_like(nd5)\n",
    "print(nd6)"
   ]
  },
  {
   "cell_type": "code",
   "execution_count": 8,
   "id": "1ff5d811",
   "metadata": {},
   "outputs": [
    {
     "name": "stdout",
     "output_type": "stream",
     "text": [
      "[[1. 0. 0. 0. 0.]\n",
      " [0. 1. 0. 0. 0.]\n",
      " [0. 0. 1. 0. 0.]\n",
      " [0. 0. 0. 1. 0.]\n",
      " [0. 0. 0. 0. 1.]]\n"
     ]
    }
   ],
   "source": [
    "nd7 = np.eye(5)\n",
    "print(nd7)"
   ]
  },
  {
   "cell_type": "code",
   "execution_count": 9,
   "id": "274b6590",
   "metadata": {},
   "outputs": [
    {
     "name": "stdout",
     "output_type": "stream",
     "text": [
      "[[1 0 0]\n",
      " [0 2 0]\n",
      " [0 0 3]]\n"
     ]
    }
   ],
   "source": [
    "nd8 = np.diag([1, 2, 3])\n",
    "print(nd8)"
   ]
  },
  {
   "cell_type": "markdown",
   "id": "dcc8b648",
   "metadata": {},
   "source": [
    "可将生成的数据保存起来，也可读取外部文件"
   ]
  },
  {
   "cell_type": "code",
   "execution_count": 10,
   "id": "6b40befb",
   "metadata": {},
   "outputs": [
    {
     "name": "stdout",
     "output_type": "stream",
     "text": [
      "[[4.10924373 5.79694297 1.39950763]\n",
      " [4.01017557 6.27317009 3.24150893]\n",
      " [2.44759277 6.94755177 5.939024  ]]\n"
     ]
    }
   ],
   "source": [
    "nd9 = np.random.uniform(0, 10, [3, 3])\n",
    "np.savetxt(X=nd9, fname='./test1.txt')\n",
    "nd10 = np.loadtxt('test1.txt')\n",
    "print(nd10)"
   ]
  },
  {
   "cell_type": "markdown",
   "id": "41334a54",
   "metadata": {},
   "source": [
    "### 利用arange、linspace函数生成数组"
   ]
  },
  {
   "cell_type": "code",
   "execution_count": 11,
   "id": "20aad58e",
   "metadata": {},
   "outputs": [
    {
     "name": "stdout",
     "output_type": "stream",
     "text": [
      "[0 1 2 3 4 5 6 7 8 9]\n",
      "[0 1 2 3 4 5 6 7 8 9]\n",
      "[1.  1.5 2.  2.5 3.  3.5]\n",
      "[9 8 7 6 5 4 3 2 1 0]\n"
     ]
    }
   ],
   "source": [
    "print(np.arange(10))\n",
    "print(np.arange(0, 10))\n",
    "print(np.arange(1, 4, 0.5))\n",
    "print(np.arange(9, -1, -1))"
   ]
  },
  {
   "cell_type": "code",
   "execution_count": 12,
   "id": "9fde8725",
   "metadata": {},
   "outputs": [
    {
     "name": "stdout",
     "output_type": "stream",
     "text": [
      "[0.         0.11111111 0.22222222 0.33333333 0.44444444 0.55555556\n",
      " 0.66666667 0.77777778 0.88888889 1.        ]\n"
     ]
    }
   ],
   "source": [
    "print(np.linspace(0, 1, 10))    # linspace生成等分向量，默认包含起点和终点"
   ]
  },
  {
   "cell_type": "markdown",
   "id": "da16a30b",
   "metadata": {},
   "source": [
    "## 获取元素"
   ]
  },
  {
   "cell_type": "code",
   "execution_count": 13,
   "id": "31573206",
   "metadata": {},
   "outputs": [
    {
     "name": "stdout",
     "output_type": "stream",
     "text": [
      "[0.90348221 0.39308051 0.62396996 0.6378774  0.88049907 0.29917202\n",
      " 0.70219827 0.90320616 0.88138193 0.4057498 ]\n"
     ]
    }
   ],
   "source": [
    "np.random.seed(2019)\n",
    "nd11 = np.random.random([10])\n",
    "print(nd11)"
   ]
  },
  {
   "cell_type": "markdown",
   "id": "2d598d45",
   "metadata": {},
   "source": [
    "获取指定位置数据"
   ]
  },
  {
   "cell_type": "code",
   "execution_count": 14,
   "id": "41868981",
   "metadata": {},
   "outputs": [
    {
     "name": "stdout",
     "output_type": "stream",
     "text": [
      "0.6378774010222266\n"
     ]
    }
   ],
   "source": [
    "print(nd11[3])"
   ]
  },
  {
   "cell_type": "markdown",
   "id": "b5cea74a",
   "metadata": {},
   "source": [
    "截取一段数据"
   ]
  },
  {
   "cell_type": "code",
   "execution_count": 15,
   "id": "3ef8e98e",
   "metadata": {},
   "outputs": [
    {
     "name": "stdout",
     "output_type": "stream",
     "text": [
      "[0.6378774  0.88049907 0.29917202]\n"
     ]
    }
   ],
   "source": [
    "print(nd11[3:6])"
   ]
  },
  {
   "cell_type": "markdown",
   "id": "d8393f6d",
   "metadata": {},
   "source": [
    "按间隔截取"
   ]
  },
  {
   "cell_type": "code",
   "execution_count": 16,
   "id": "17ef0165",
   "metadata": {},
   "outputs": [
    {
     "name": "stdout",
     "output_type": "stream",
     "text": [
      "[0.39308051 0.6378774  0.29917202]\n"
     ]
    }
   ],
   "source": [
    "print(nd11[1:6:2])"
   ]
  },
  {
   "cell_type": "markdown",
   "id": "66937866",
   "metadata": {},
   "source": [
    "倒序"
   ]
  },
  {
   "cell_type": "code",
   "execution_count": 17,
   "id": "26ba90dd",
   "metadata": {},
   "outputs": [
    {
     "name": "stdout",
     "output_type": "stream",
     "text": [
      "[0.4057498  0.90320616 0.29917202 0.6378774  0.39308051]\n"
     ]
    }
   ],
   "source": [
    "print(nd11[::-2])"
   ]
  },
  {
   "cell_type": "markdown",
   "id": "ab3dc4d3",
   "metadata": {},
   "source": [
    "截取多维数据的一个区域"
   ]
  },
  {
   "cell_type": "code",
   "execution_count": 18,
   "id": "8d449b4d",
   "metadata": {},
   "outputs": [
    {
     "name": "stdout",
     "output_type": "stream",
     "text": [
      "[[ 6  7]\n",
      " [11 12]]\n"
     ]
    }
   ],
   "source": [
    "nd12 = np.arange(25).reshape([5, 5])\n",
    "print(nd12[1:3, 1:3])"
   ]
  },
  {
   "cell_type": "markdown",
   "id": "ae446d87",
   "metadata": {},
   "source": [
    "按条件截取"
   ]
  },
  {
   "cell_type": "code",
   "execution_count": 19,
   "id": "acb5c1a9",
   "metadata": {},
   "outputs": [
    {
     "name": "stdout",
     "output_type": "stream",
     "text": [
      "[4 5 6 7 8 9]\n"
     ]
    }
   ],
   "source": [
    "print(nd12[(nd12 > 3) & (nd12 < 10)])"
   ]
  },
  {
   "cell_type": "markdown",
   "id": "fd59d235",
   "metadata": {},
   "source": [
    "可通过random.choice来随机抽取数据"
   ]
  },
  {
   "cell_type": "code",
   "execution_count": 20,
   "id": "f1275175",
   "metadata": {},
   "outputs": [
    {
     "name": "stdout",
     "output_type": "stream",
     "text": [
      "随机可重复抽取\n",
      "[[19.  6. 24. 22.]\n",
      " [21. 17. 16.  2.]\n",
      " [23. 15. 13. 11.]]\n",
      "随机不重复抽取\n",
      "[[ 5. 14. 23. 15.]\n",
      " [ 8. 24.  6. 18.]\n",
      " [13. 10. 21. 11.]]\n",
      "随机按预定概率抽取\n",
      "[[19. 21. 18. 11.]\n",
      " [10. 21. 23. 19.]\n",
      " [18. 19. 11. 20.]]\n"
     ]
    }
   ],
   "source": [
    "from numpy import random as nr\n",
    "\n",
    "a = np.arange(1, 25, dtype=float)\n",
    "c1 = nr.choice(a, size=(3, 4))\n",
    "c2 = nr.choice(a, size=(3, 4), replace=False)\n",
    "c3 = nr.choice(a, size=(3, 4), p=a/np.sum(a))    # p为指定抽取概率\n",
    "print(f'随机可重复抽取\\n{c1}')\n",
    "print(f'随机不重复抽取\\n{c2}')\n",
    "print(f'随机按预定概率抽取\\n{c3}')"
   ]
  },
  {
   "cell_type": "markdown",
   "id": "0bac037c",
   "metadata": {},
   "source": [
    "## Numpy的算术运算"
   ]
  },
  {
   "cell_type": "markdown",
   "id": "4cb7251e",
   "metadata": {},
   "source": [
    "### 对应元素相乘\n",
    "np.multiply()或直接使用$*$"
   ]
  },
  {
   "cell_type": "code",
   "execution_count": 21,
   "id": "fc3ca5c6",
   "metadata": {},
   "outputs": [
    {
     "name": "stdout",
     "output_type": "stream",
     "text": [
      "[[ 2  0]\n",
      " [-3 16]]\n"
     ]
    }
   ],
   "source": [
    "A = np.array([[1, 2], [-1, 4]])\n",
    "B = np.array([[2, 0], [3, 4]])\n",
    "print(A*B)"
   ]
  },
  {
   "cell_type": "markdown",
   "id": "475e91f8",
   "metadata": {},
   "source": [
    "Numpy可将数组中每个元素对标量进行运算"
   ]
  },
  {
   "cell_type": "code",
   "execution_count": 22,
   "id": "ea6ce006",
   "metadata": {},
   "outputs": [
    {
     "name": "stdout",
     "output_type": "stream",
     "text": [
      "[[ 2  4]\n",
      " [-2  8]]\n",
      "[[ 0.5  1. ]\n",
      " [-0.5  2. ]]\n"
     ]
    }
   ],
   "source": [
    "print(A*2)\n",
    "print(A/2)"
   ]
  },
  {
   "cell_type": "markdown",
   "id": "dc899424",
   "metadata": {},
   "source": [
    "故数组通过激活函数后形状不变"
   ]
  },
  {
   "cell_type": "code",
   "execution_count": 23,
   "id": "5aa518ea",
   "metadata": {},
   "outputs": [
    {
     "name": "stdout",
     "output_type": "stream",
     "text": [
      "True\n"
     ]
    }
   ],
   "source": [
    "X = np.random.rand(2, 3)\n",
    "\n",
    "def softmoid(x):\n",
    "    return 1/(1+np.exp(-x))\n",
    "\n",
    "print(X.shape == softmoid(X).shape)"
   ]
  },
  {
   "cell_type": "markdown",
   "id": "67f3a496",
   "metadata": {},
   "source": [
    "### 点积\n",
    "使用np.dot()或@"
   ]
  },
  {
   "cell_type": "code",
   "execution_count": 24,
   "id": "fe63c812",
   "metadata": {},
   "outputs": [
    {
     "name": "stdout",
     "output_type": "stream",
     "text": [
      "[[21 24 27]\n",
      " [47 54 61]]\n"
     ]
    }
   ],
   "source": [
    "X1 = np.array([[1, 2], [3, 4]])\n",
    "X2 = np.array([[5, 6, 7], [8, 9, 10]])\n",
    "print(X1@X2)"
   ]
  },
  {
   "cell_type": "markdown",
   "id": "775f1cf3",
   "metadata": {},
   "source": [
    "## 数组变形\n",
    "### 更改数组的形状\n",
    "1. reshape\n",
    "<br>改变维度(不修改向量本身)"
   ]
  },
  {
   "cell_type": "code",
   "execution_count": 25,
   "id": "3bb56d29",
   "metadata": {},
   "outputs": [
    {
     "name": "stdout",
     "output_type": "stream",
     "text": [
      "[[0 1 2 3 4]\n",
      " [5 6 7 8 9]]\n",
      "[[0 1]\n",
      " [2 3]\n",
      " [4 5]\n",
      " [6 7]\n",
      " [8 9]]\n",
      "[0 1 2 3 4 5 6 7 8 9]\n"
     ]
    }
   ],
   "source": [
    "arr = np.arange(10)\n",
    "print(arr.reshape(2, 5))\n",
    "print(arr.reshape(5, -1))    # 可只指定某一维度，另一维用-1代替\n",
    "print(arr)"
   ]
  },
  {
   "cell_type": "markdown",
   "id": "95086611",
   "metadata": {},
   "source": [
    "2. resize\n",
    "<br>改变维度(修改向量本身)"
   ]
  },
  {
   "cell_type": "code",
   "execution_count": 26,
   "id": "22b79513",
   "metadata": {},
   "outputs": [
    {
     "name": "stdout",
     "output_type": "stream",
     "text": [
      "None\n",
      "[[0 1 2 3 4]\n",
      " [5 6 7 8 9]]\n"
     ]
    }
   ],
   "source": [
    "arr = np.arange(10)\n",
    "print(arr.resize(2, 5))    # 返回值为空，直接修改向量本身\n",
    "print(arr)"
   ]
  },
  {
   "cell_type": "markdown",
   "id": "a1831ec1",
   "metadata": {},
   "source": [
    "3. T\n",
    "<br>转置"
   ]
  },
  {
   "cell_type": "code",
   "execution_count": 27,
   "id": "38555fdb",
   "metadata": {},
   "outputs": [
    {
     "name": "stdout",
     "output_type": "stream",
     "text": [
      "[[ 0  1  2  3]\n",
      " [ 4  5  6  7]\n",
      " [ 8  9 10 11]]\n",
      "[[ 0  4  8]\n",
      " [ 1  5  9]\n",
      " [ 2  6 10]\n",
      " [ 3  7 11]]\n"
     ]
    }
   ],
   "source": [
    "arr = np.arange(12).reshape(3, 4)\n",
    "print(arr)\n",
    "print(arr.T)"
   ]
  },
  {
   "cell_type": "markdown",
   "id": "2a0a90c3",
   "metadata": {},
   "source": [
    "4. ravel\n",
    "<br> 向量展平"
   ]
  },
  {
   "cell_type": "code",
   "execution_count": 28,
   "id": "b585a704",
   "metadata": {},
   "outputs": [
    {
     "name": "stdout",
     "output_type": "stream",
     "text": [
      "[[0 1 2]\n",
      " [3 4 5]]\n",
      "行优先[0 1 2 3 4 5]\n",
      "列优先[0 3 1 4 2 5]\n"
     ]
    }
   ],
   "source": [
    "arr = np.arange(6).reshape(2, -1)\n",
    "print(arr)\n",
    "print(f'行优先{arr.ravel()}')\n",
    "print(f'列优先{arr.ravel(\"F\")}')"
   ]
  },
  {
   "cell_type": "markdown",
   "id": "b23f6d27",
   "metadata": {},
   "source": [
    "4. flatten\n",
    "<br> 将矩阵转换为向量"
   ]
  },
  {
   "cell_type": "code",
   "execution_count": 29,
   "id": "bfdaa702",
   "metadata": {},
   "outputs": [
    {
     "name": "stdout",
     "output_type": "stream",
     "text": [
      "[[9. 4. 5. 0.]\n",
      " [2. 6. 3. 7.]\n",
      " [7. 4. 3. 1.]]\n",
      "[9. 4. 5. 0. 2. 6. 3. 7. 7. 4. 3. 1.]\n"
     ]
    }
   ],
   "source": [
    "a = np.floor(10*np.random.random((3, 4)))\n",
    "print(a)\n",
    "print(a.flatten())"
   ]
  },
  {
   "cell_type": "markdown",
   "id": "5fa1eaa6",
   "metadata": {},
   "source": [
    "5. squeeze\n",
    "<br> 降维，将矩阵中含1的维度去掉"
   ]
  },
  {
   "cell_type": "code",
   "execution_count": 30,
   "id": "eedd68da",
   "metadata": {},
   "outputs": [
    {
     "name": "stdout",
     "output_type": "stream",
     "text": [
      "(3, 1)\n",
      "(3,)\n",
      "(3, 1, 2, 1)\n",
      "(3, 2)\n"
     ]
    }
   ],
   "source": [
    "arr = np.arange(3).reshape(3, 1)\n",
    "print(arr.shape)\n",
    "print(arr.squeeze().shape)\n",
    "\n",
    "arr = np.arange(6).reshape(3, 1, 2, 1)\n",
    "print(arr.shape)\n",
    "print(arr.squeeze().shape)"
   ]
  },
  {
   "cell_type": "markdown",
   "id": "ba952d83",
   "metadata": {},
   "source": [
    "6. transpose\n",
    "<br> 对高维矩阵进行轴对换"
   ]
  },
  {
   "cell_type": "code",
   "execution_count": 31,
   "id": "55a5203e",
   "metadata": {},
   "outputs": [
    {
     "name": "stdout",
     "output_type": "stream",
     "text": [
      "(2, 3, 4)\n",
      "(3, 4, 2)\n"
     ]
    }
   ],
   "source": [
    "arr = np.arange(24).reshape(2, 3, 4)\n",
    "print(arr.shape)\n",
    "print(arr.transpose(1, 2, 0).shape)"
   ]
  },
  {
   "cell_type": "markdown",
   "id": "50e07524",
   "metadata": {},
   "source": [
    "### 合并数组"
   ]
  },
  {
   "cell_type": "markdown",
   "id": "4f8315f5",
   "metadata": {},
   "source": [
    "1. append\n",
    "<br>合并一维数组"
   ]
  },
  {
   "cell_type": "code",
   "execution_count": 32,
   "id": "c12ffb07",
   "metadata": {},
   "outputs": [
    {
     "name": "stdout",
     "output_type": "stream",
     "text": [
      "[1 2 3 4 5 6]\n"
     ]
    }
   ],
   "source": [
    "a = np.array([1, 2, 3])\n",
    "b = np.array([4, 5, 6])\n",
    "c = np.append(a, b)\n",
    "print(c)"
   ]
  },
  {
   "cell_type": "markdown",
   "id": "25e8b309",
   "metadata": {},
   "source": [
    "合并多维数组"
   ]
  },
  {
   "cell_type": "code",
   "execution_count": 33,
   "id": "f006e0d6",
   "metadata": {},
   "outputs": [
    {
     "name": "stdout",
     "output_type": "stream",
     "text": [
      "[[0 1]\n",
      " [2 3]\n",
      " [0 1]\n",
      " [2 3]]\n",
      "[[0 1 0 1]\n",
      " [2 3 2 3]]\n"
     ]
    }
   ],
   "source": [
    "a = np.arange(4).reshape(2, 2)\n",
    "b = np.arange(4).reshape(2, 2)\n",
    "print(np.append(a, b, axis=0))    # 按行合并\n",
    "print(np.append(a, b, axis=1))    # 按列合并"
   ]
  },
  {
   "cell_type": "markdown",
   "id": "05c4d342",
   "metadata": {},
   "source": [
    "2. concatenate\n",
    "<br>沿指定轴合并数组"
   ]
  },
  {
   "cell_type": "code",
   "execution_count": 34,
   "id": "bfb372e1",
   "metadata": {},
   "outputs": [
    {
     "name": "stdout",
     "output_type": "stream",
     "text": [
      "[[1 2]\n",
      " [3 4]\n",
      " [5 6]]\n",
      "[[1 2 5]\n",
      " [3 4 6]]\n"
     ]
    }
   ],
   "source": [
    "a = np.array([[1, 2], [3, 4]])\n",
    "b = np.array([[5, 6]])\n",
    "print(np.concatenate([a, b], axis=0))\n",
    "print(np.concatenate([a, b.T], axis=1))"
   ]
  },
  {
   "cell_type": "markdown",
   "id": "7d0a146c",
   "metadata": {},
   "source": [
    "3. stack\n",
    "<br>沿指定轴堆叠数组"
   ]
  },
  {
   "cell_type": "code",
   "execution_count": 35,
   "id": "b46ebb3f",
   "metadata": {},
   "outputs": [
    {
     "name": "stdout",
     "output_type": "stream",
     "text": [
      "[[[1 2]\n",
      "  [3 4]]\n",
      "\n",
      " [[5 6]\n",
      "  [7 8]]]\n"
     ]
    }
   ],
   "source": [
    "a = np.array([[1, 2], [3, 4]])\n",
    "b = np.array([[5, 6], [7, 8]])\n",
    "print(np.stack([a, b], axis=0))"
   ]
  },
  {
   "cell_type": "markdown",
   "id": "569f9e27",
   "metadata": {},
   "source": [
    "## 批量处理\n",
    "1. 得到数据集\n",
    "2. 随机打乱数据\n",
    "3. 定义批次大小\n",
    "4. 批处理数据"
   ]
  },
  {
   "cell_type": "code",
   "execution_count": 47,
   "id": "8876d493",
   "metadata": {
    "scrolled": true
   },
   "outputs": [
    {
     "name": "stdout",
     "output_type": "stream",
     "text": [
      "(10000, 2, 3)\n",
      "第1批次的数据和：12.914549296296146\n",
      "第2批次的数据和：12.250592661298244\n",
      "第3批次的数据和：-11.446937686067738\n",
      "第4批次的数据和：-11.245718962012484\n",
      "第5批次的数据和：-66.76240518792102\n",
      "第6批次的数据和：22.46611911429047\n",
      "第7批次的数据和：1.9651368605344857\n",
      "第8批次的数据和：8.475716745079053\n",
      "第9批次的数据和：30.99407270689005\n",
      "第10批次的数据和：-7.523053404233414\n",
      "第11批次的数据和：-2.231163814663628\n",
      "第12批次的数据和：-40.12382144963436\n",
      "第13批次的数据和：31.71763284642599\n",
      "第14批次的数据和：-7.428864407583934\n",
      "第15批次的数据和：4.990208712358567\n",
      "第16批次的数据和：25.986357085877632\n",
      "第17批次的数据和：21.625215484292042\n",
      "第18批次的数据和：-15.153624730186813\n",
      "第19批次的数据和：-33.66280676200193\n",
      "第20批次的数据和：33.62139197739925\n",
      "第21批次的数据和：6.516377385490795\n",
      "第22批次的数据和：35.06265697465706\n",
      "第23批次的数据和：3.743734170205107\n",
      "第24批次的数据和：-30.56337236767877\n",
      "第25批次的数据和：-11.84043570632779\n",
      "第26批次的数据和：-17.326536117732434\n",
      "第27批次的数据和：1.2433217707280235\n",
      "第28批次的数据和：-22.052479219855968\n",
      "第29批次的数据和：26.754333871417376\n",
      "第30批次的数据和：2.6402007881375837\n",
      "第31批次的数据和：-31.140697022280865\n",
      "第32批次的数据和：34.2450610539059\n",
      "第33批次的数据和：-8.905060310630942\n",
      "第34批次的数据和：14.794907685056756\n",
      "第35批次的数据和：11.031165025944304\n",
      "第36批次的数据和：-2.645449439706576\n",
      "第37批次的数据和：-19.472822098492745\n",
      "第38批次的数据和：-9.383808069038462\n",
      "第39批次的数据和：-3.3050746103302098\n",
      "第40批次的数据和：16.939873816735354\n",
      "第41批次的数据和：-4.762055711471377\n",
      "第42批次的数据和：-8.216429891488687\n",
      "第43批次的数据和：21.483596988586388\n",
      "第44批次的数据和：-4.1583610373366025\n",
      "第45批次的数据和：-8.0651201268766\n",
      "第46批次的数据和：-32.52696895150047\n",
      "第47批次的数据和：11.382059483760704\n",
      "第48批次的数据和：-7.440799002674793\n",
      "第49批次的数据和：-6.913308206400085\n",
      "第50批次的数据和：-28.841387571907617\n",
      "第51批次的数据和：13.491300223491335\n",
      "第52批次的数据和：-26.514479810105243\n",
      "第53批次的数据和：32.93818725535452\n",
      "第54批次的数据和：-10.0453519025028\n",
      "第55批次的数据和：-0.28093570924517586\n",
      "第56批次的数据和：-8.979041674111993\n",
      "第57批次的数据和：21.901471574038734\n",
      "第58批次的数据和：26.37031554011434\n",
      "第59批次的数据和：-28.212164118113826\n",
      "第60批次的数据和：-6.941365371287949\n",
      "第61批次的数据和：52.79789967964552\n",
      "第62批次的数据和：7.136600907453966\n",
      "第63批次的数据和：-14.372401152844688\n",
      "第64批次的数据和：-8.445835549239284\n",
      "第65批次的数据和：-14.337194834577538\n",
      "第66批次的数据和：-35.209881183275115\n",
      "第67批次的数据和：-19.64101137004919\n",
      "第68批次的数据和：6.232390145433202\n",
      "第69批次的数据和：-42.22568488503357\n",
      "第70批次的数据和：-19.57553172410215\n",
      "第71批次的数据和：-14.568349293920724\n",
      "第72批次的数据和：25.613094006462326\n",
      "第73批次的数据和：-5.3208678589007485\n",
      "第74批次的数据和：5.351996024663965\n",
      "第75批次的数据和：4.673991932326249\n",
      "第76批次的数据和：-6.164008347161843\n",
      "第77批次的数据和：-13.01386806342313\n",
      "第78批次的数据和：-6.089875759847203\n",
      "第79批次的数据和：6.42449721485896\n",
      "第80批次的数据和：34.40528500655245\n",
      "第81批次的数据和：4.931474068782618\n",
      "第82批次的数据和：16.58148031413823\n",
      "第83批次的数据和：-11.465334259236961\n",
      "第84批次的数据和：-21.918463941569485\n",
      "第85批次的数据和：35.74809841266245\n",
      "第86批次的数据和：6.077509886685953\n",
      "第87批次的数据和：38.39330781347721\n",
      "第88批次的数据和：17.855922611972264\n",
      "第89批次的数据和：34.720677557940206\n",
      "第90批次的数据和：0.11304520981921229\n",
      "第91批次的数据和：-23.98656537326298\n",
      "第92批次的数据和：47.64220821903008\n",
      "第93批次的数据和：-15.834795935739155\n",
      "第94批次的数据和：35.8151084861902\n",
      "第95批次的数据和：31.034217387441917\n",
      "第96批次的数据和：16.640157172973574\n",
      "第97批次的数据和：-8.26081505716314\n",
      "第98批次的数据和：-10.783620475906524\n",
      "第99批次的数据和：2.446205286973358\n",
      "第100批次的数据和：-13.395067019369069\n"
     ]
    }
   ],
   "source": [
    "data_train = np.random.randn(10000, 2, 3)    # 生成1000个形状为2*3的矩阵（表现为三个维度）\n",
    "print(data_train.shape)\n",
    "np.random.shuffle(data_train)    # 打乱数据\n",
    "batch_size = 100    # 定义批次大小\n",
    "for i in range(0, len(data_train), batch_size):\n",
    "    x_batch_sum = np.sum(data_train[i:i+batch_size])\n",
    "    print(f'第{int(i/100+1)}批次的数据和：{x_batch_sum}')"
   ]
  },
  {
   "cell_type": "markdown",
   "id": "73b2a5e6",
   "metadata": {},
   "source": [
    "## 通用函数\n",
    "sqrt,sin,cos,abs,sum,mean,median...."
   ]
  },
  {
   "cell_type": "markdown",
   "id": "30fcf6bc",
   "metadata": {},
   "source": [
    "## 广播机制\n",
    "Numpy的通用函数要求输入的数组shape一致，若不一致，会使用广播机制。\n",
    "广播机制满足以下规则\n",
    "1. 所有输入数组均向shape最长的数组看齐，不足的部分在前面加1补全\n",
    "2. 输出的数组shape为输入数组shape的每个轴的最大值\n",
    "3. 若输入数组的某个轴和输出数组的对应轴的长度相同或为1时能被计算，否则报错\n",
    "4. 党输入数组的某个轴的长度为1时，沿此轴运算时复制第一组值"
   ]
  },
  {
   "cell_type": "code",
   "execution_count": 48,
   "id": "24514583",
   "metadata": {},
   "outputs": [
    {
     "name": "stdout",
     "output_type": "stream",
     "text": [
      "[[ 0]\n",
      " [10]\n",
      " [20]\n",
      " [30]]\n",
      "[0 1 2]\n",
      "[[ 0  1  2]\n",
      " [10 11 12]\n",
      " [20 21 22]\n",
      " [30 31 32]]\n"
     ]
    }
   ],
   "source": [
    "A = np.arange(0, 40, 10).reshape(4, 1)\n",
    "B = np.arange(0, 3)\n",
    "print(A)\n",
    "print(B)\n",
    "print(A+B)"
   ]
  }
 ],
 "metadata": {
  "kernelspec": {
   "display_name": "Python 3",
   "language": "python",
   "name": "python3"
  },
  "language_info": {
   "codemirror_mode": {
    "name": "ipython",
    "version": 3
   },
   "file_extension": ".py",
   "mimetype": "text/x-python",
   "name": "python",
   "nbconvert_exporter": "python",
   "pygments_lexer": "ipython3",
   "version": "3.8.8"
  }
 },
 "nbformat": 4,
 "nbformat_minor": 5
}

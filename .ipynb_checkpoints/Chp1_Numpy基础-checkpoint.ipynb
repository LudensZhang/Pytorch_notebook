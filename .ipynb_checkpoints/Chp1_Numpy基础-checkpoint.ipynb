{
 "cells": [
  {
   "cell_type": "markdown",
   "id": "ea3f3bf7",
   "metadata": {},
   "source": [
    "# Numpy基础"
   ]
  },
  {
   "cell_type": "markdown",
   "id": "2b04391f",
   "metadata": {},
   "source": [
    "## 生成Numpy数组\n",
    "导入Numpy"
   ]
  },
  {
   "cell_type": "code",
   "execution_count": 2,
   "id": "1482650e",
   "metadata": {},
   "outputs": [],
   "source": [
    "import numpy as np"
   ]
  },
  {
   "cell_type": "markdown",
   "id": "2c63eea2",
   "metadata": {},
   "source": [
    "### 从已有数据创建数组\n",
    "将列表转换成ndarray"
   ]
  },
  {
   "cell_type": "code",
   "execution_count": null,
   "id": "465ee734",
   "metadata": {},
   "outputs": [],
   "source": []
  }
 ],
 "metadata": {
  "kernelspec": {
   "display_name": "Python 3",
   "language": "python",
   "name": "python3"
  },
  "language_info": {
   "codemirror_mode": {
    "name": "ipython",
    "version": 3
   },
   "file_extension": ".py",
   "mimetype": "text/x-python",
   "name": "python",
   "nbconvert_exporter": "python",
   "pygments_lexer": "ipython3",
   "version": "3.8.8"
  }
 },
 "nbformat": 4,
 "nbformat_minor": 5
}

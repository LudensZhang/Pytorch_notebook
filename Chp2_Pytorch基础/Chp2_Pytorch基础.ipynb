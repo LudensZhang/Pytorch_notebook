{
 "cells": [
  {
   "cell_type": "markdown",
   "id": "478b0335",
   "metadata": {},
   "source": [
    "# Pytorch基础\n",
    "## Numpy与Tensor\n",
    "Tensor与Numpy相似，二者可共享内存，且相互间转换非常方便高效。二者最大的区别在于Numpy将ndarray放在CPU中加速运算，Tensor放在GPU中加速运算\n",
    "### Tensor概述\n",
    "1. torch.function 与 tensor.function等价，如torch.add(x, y)与x.add(y)\n",
    "2. x.function返回一个新的Tensor，x.function_直接修改数据本身"
   ]
  },
  {
   "cell_type": "code",
   "execution_count": 2,
   "id": "d845727e",
   "metadata": {},
   "outputs": [
    {
     "name": "stdout",
     "output_type": "stream",
     "text": [
      "tensor([4, 6])\n",
      "tensor([1, 2])\n",
      "tensor([4, 6])\n"
     ]
    }
   ],
   "source": [
    "import torch\n",
    "\n",
    "x = torch.tensor([1, 2])\n",
    "y = torch.tensor([3, 4])\n",
    "z = x.add(y)\n",
    "print(z)\n",
    "print(x)\n",
    "x.add_(y)\n",
    "print(x)"
   ]
  },
  {
   "cell_type": "markdown",
   "id": "9fcc5aad",
   "metadata": {},
   "source": [
    "### 创建Tensor\n",
    "可从列表或ndarray进行构建，也可根据指定形状构建"
   ]
  },
  {
   "cell_type": "code",
   "execution_count": 12,
   "id": "335c59b2",
   "metadata": {},
   "outputs": [
    {
     "name": "stdout",
     "output_type": "stream",
     "text": [
      "torch.Size([2, 3])\n",
      "torch.Size([2, 3])\n",
      "tensor([[1., 2., 3.],\n",
      "        [4., 5., 6.]])\n"
     ]
    }
   ],
   "source": [
    "torch.Tensor([1, 2, 3, 4, 5, 6])    # 由列表构建\n",
    "torch.Tensor(2, 3)    # 指定形状构建\n",
    "t = torch.Tensor([[1, 2, 3], [4, 5, 6]])\n",
    "print(t.size())    # 查看形状\n",
    "print(t.shape)    # shape与size()等价\n",
    "print(torch.Tensor(t.size()))"
   ]
  },
  {
   "cell_type": "markdown",
   "id": "125d4d8d",
   "metadata": {},
   "source": [
    "torch.Tensor与torch.tensor区别\n",
    "1. torch.Tensor是torch.empty和torch.tensor的混合，但当传入数据时，torch.Tensor使用全局默认的dtype(FloatTensor)，torch.tensor从数据中推断数据类型\n",
    "2. torch.tensor(1)返回固定值1，torch.Tensor(1)返回一个大小为1的随机初始化的张量"
   ]
  },
  {
   "cell_type": "code",
   "execution_count": 8,
   "id": "46c54f98",
   "metadata": {},
   "outputs": [
    {
     "name": "stdout",
     "output_type": "stream",
     "text": [
      "t1的值tensor([-1.1395e-22])， t1的数据类型torch.FloatTensor\n",
      "t2的值1， t2的数据类型torch.LongTensor\n"
     ]
    }
   ],
   "source": [
    "t1 = torch.Tensor(1)\n",
    "t2 = torch.tensor(1)\n",
    "print(f't1的值{t1}， t1的数据类型{t1.type()}')\n",
    "print(f't2的值{t2}， t2的数据类型{t2.type()}')"
   ]
  },
  {
   "cell_type": "markdown",
   "id": "9bf8614f",
   "metadata": {},
   "source": [
    "下面为根据一定规则自动生成 的一些Tensor"
   ]
  },
  {
   "cell_type": "code",
   "execution_count": 19,
   "id": "4010b60b",
   "metadata": {},
   "outputs": [
    {
     "data": {
      "text/plain": [
       "tensor([[0., 0., 0.],\n",
       "        [0., 0., 0.]])"
      ]
     },
     "execution_count": 19,
     "metadata": {},
     "output_type": "execute_result"
    }
   ],
   "source": [
    "torch.eye(2, 2)    # 单位矩阵\n",
    "torch.zeros(2, 3)\n",
    "torch.linspace(1, 10, 4)\n",
    "torch.rand(2, 3)\n",
    "torch.randn(2, 3)    # 满足标准分布的随机数\n",
    "torch.zeros_like(torch.rand(2, 3))"
   ]
  },
  {
   "cell_type": "markdown",
   "id": "6a3f933c",
   "metadata": {},
   "source": [
    "### 修改Tensor形状"
   ]
  },
  {
   "cell_type": "code",
   "execution_count": 20,
   "id": "dd4a9964",
   "metadata": {},
   "outputs": [
    {
     "data": {
      "text/plain": [
       "tensor([[ 0.6818,  0.8294,  0.8915],\n",
       "        [-1.0143,  0.6292,  0.4269]])"
      ]
     },
     "execution_count": 20,
     "metadata": {},
     "output_type": "execute_result"
    }
   ],
   "source": [
    "X = torch.randn(2, 3)"
   ]
  },
  {
   "cell_type": "markdown",
   "id": "0652d16d",
   "metadata": {},
   "source": [
    "查看形状"
   ]
  },
  {
   "cell_type": "code",
   "execution_count": 21,
   "id": "13185c38",
   "metadata": {},
   "outputs": [
    {
     "data": {
      "text/plain": [
       "torch.Size([2, 3])"
      ]
     },
     "execution_count": 21,
     "metadata": {},
     "output_type": "execute_result"
    }
   ],
   "source": [
    "X.size()"
   ]
  },
  {
   "cell_type": "markdown",
   "id": "e7850318",
   "metadata": {},
   "source": [
    "查看维数"
   ]
  },
  {
   "cell_type": "code",
   "execution_count": 22,
   "id": "21935145",
   "metadata": {},
   "outputs": [
    {
     "data": {
      "text/plain": [
       "2"
      ]
     },
     "execution_count": 22,
     "metadata": {},
     "output_type": "execute_result"
    }
   ],
   "source": [
    "X.dim()"
   ]
  },
  {
   "cell_type": "markdown",
   "id": "0682ba49",
   "metadata": {},
   "source": [
    "转换为3×2的矩阵"
   ]
  },
  {
   "cell_type": "code",
   "execution_count": 23,
   "id": "b9a49fca",
   "metadata": {},
   "outputs": [
    {
     "data": {
      "text/plain": [
       "tensor([[ 0.6818,  0.8294],\n",
       "        [ 0.8915, -1.0143],\n",
       "        [ 0.6292,  0.4269]])"
      ]
     },
     "execution_count": 23,
     "metadata": {},
     "output_type": "execute_result"
    }
   ],
   "source": [
    "X.view(3, 2)"
   ]
  },
  {
   "cell_type": "markdown",
   "id": "b9f80183",
   "metadata": {},
   "source": [
    "展平"
   ]
  },
  {
   "cell_type": "code",
   "execution_count": 24,
   "id": "e378075b",
   "metadata": {},
   "outputs": [
    {
     "data": {
      "text/plain": [
       "tensor([ 0.6818,  0.8294,  0.8915, -1.0143,  0.6292,  0.4269])"
      ]
     },
     "execution_count": 24,
     "metadata": {},
     "output_type": "execute_result"
    }
   ],
   "source": [
    "X.view(-1)"
   ]
  },
  {
   "cell_type": "markdown",
   "id": "2ec20f8e",
   "metadata": {},
   "source": [
    "添加一个维度"
   ]
  },
  {
   "cell_type": "code",
   "execution_count": 29,
   "id": "24975683",
   "metadata": {},
   "outputs": [
    {
     "data": {
      "text/plain": [
       "torch.Size([1, 2, 3])"
      ]
     },
     "execution_count": 29,
     "metadata": {},
     "output_type": "execute_result"
    }
   ],
   "source": [
    "X.unsqueeze_(0)\n",
    "X.size()"
   ]
  },
  {
   "cell_type": "markdown",
   "id": "4fc2d3b2",
   "metadata": {},
   "source": [
    "计数"
   ]
  },
  {
   "cell_type": "code",
   "execution_count": 31,
   "id": "d6f2699b",
   "metadata": {},
   "outputs": [
    {
     "data": {
      "text/plain": [
       "6"
      ]
     },
     "execution_count": 31,
     "metadata": {},
     "output_type": "execute_result"
    }
   ],
   "source": [
    "X.numel()"
   ]
  },
  {
   "cell_type": "markdown",
   "id": "98831089",
   "metadata": {},
   "source": [
    "### 索引操作\n"
   ]
  }
 ],
 "metadata": {
  "kernelspec": {
   "display_name": "torch_gpu",
   "language": "python",
   "name": "torch_gpu"
  },
  "language_info": {
   "codemirror_mode": {
    "name": "ipython",
    "version": 3
   },
   "file_extension": ".py",
   "mimetype": "text/x-python",
   "name": "python",
   "nbconvert_exporter": "python",
   "pygments_lexer": "ipython3",
   "version": "3.9.7"
  }
 },
 "nbformat": 4,
 "nbformat_minor": 5
}
